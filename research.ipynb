{
 "cells": [
  {
   "cell_type": "code",
   "execution_count": 15,
   "metadata": {},
   "outputs": [],
   "source": [
    "from supabase import create_client, Client\n",
    "import os"
   ]
  },
  {
   "cell_type": "code",
   "execution_count": 16,
   "metadata": {},
   "outputs": [],
   "source": [
    "supabase = create_client(\n",
    "    os.getenv(\"SUPABASE_URL\"),\n",
    "    os.getenv(\"SUPABASE_KEY\")\n",
    ")\n",
    "user_id = '2f94f276-499e-45d1-babf-415f385695ba'"
   ]
  },
  {
   "cell_type": "code",
   "execution_count": 17,
   "metadata": {},
   "outputs": [],
   "source": [
    "def get_user_metadata(user_id):\n",
    "    \"\"\"Fetch user metadata from Supabase\"\"\"\n",
    "    try:\n",
    "        response = supabase.table('profiles').select('username','email','facility').eq('id', user_id).single().execute()\n",
    "        print(response.data)\n",
    "        return response.data if response.data else None\n",
    "    except Exception as e:\n",
    "        print(f\"Error fetching user metadata: {str(e)}\")\n",
    "        return None"
   ]
  },
  {
   "cell_type": "code",
   "execution_count": 18,
   "metadata": {},
   "outputs": [
    {
     "name": "stdout",
     "output_type": "stream",
     "text": [
      "{'username': 'nuzi', 'email': 'ahuraraymond@gmail.com', 'facility': 'Akilu Memorial Primary Health Centre'}\n"
     ]
    }
   ],
   "source": [
    "user_metadata = get_user_metadata(user_id)"
   ]
  },
  {
   "cell_type": "code",
   "execution_count": 19,
   "metadata": {},
   "outputs": [
    {
     "name": "stdout",
     "output_type": "stream",
     "text": [
      "nuzi\n"
     ]
    }
   ],
   "source": [
    "username = user_metadata.get('username')\n",
    "print(username)"
   ]
  },
  {
   "cell_type": "code",
   "execution_count": 20,
   "metadata": {},
   "outputs": [
    {
     "name": "stdout",
     "output_type": "stream",
     "text": [
      "data=[{'username': 'nuzi'}] count=None\n"
     ]
    }
   ],
   "source": [
    "user = supabase.table('profiles').select('username').execute()\n",
    "print(user)"
   ]
  },
  {
   "cell_type": "code",
   "execution_count": null,
   "metadata": {},
   "outputs": [],
   "source": []
  }
 ],
 "metadata": {
  "kernelspec": {
   "display_name": "genai",
   "language": "python",
   "name": "python3"
  },
  "language_info": {
   "codemirror_mode": {
    "name": "ipython",
    "version": 3
   },
   "file_extension": ".py",
   "mimetype": "text/x-python",
   "name": "python",
   "nbconvert_exporter": "python",
   "pygments_lexer": "ipython3",
   "version": "3.12.4"
  }
 },
 "nbformat": 4,
 "nbformat_minor": 2
}
